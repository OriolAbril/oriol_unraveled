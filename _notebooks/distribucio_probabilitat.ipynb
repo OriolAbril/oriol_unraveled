{
 "cells": [
  {
   "cell_type": "markdown",
   "id": "9821b2c6",
   "metadata": {},
   "source": [
    "# Què és una distribució de probabilitat?\n",
    "\n",
    "Guió:\n",
    "* Què són i perquè s'utilitzen\n",
    "* Com es representen\n",
    "  - histogrames\n",
    "  - kde\n",
    "  - dotplots\n",
    "  - ecdf\n",
    "* Com llegir correctament les representacións de distribucions de probabilitat\n",
    "\n",
    "preguntes pendents\n",
    "* tipus? discretes vs continues per exemple?\n",
    "* un sol post? O una sèrie de posts?"
   ]
  },
  {
   "cell_type": "markdown",
   "id": "fbbe2df5",
   "metadata": {},
   "source": [
    "Les distribucions de probabilitat són un conepte de les matemàtiques i la estadística que poca gent ha estudiat i malgrat això és utilitzat constantment en articles, infogrames, televisió... A vegades s'assumeix que tothom és capaç d'entendre la informació que s'està comunicant amb l'ús de les distribucions de probabilitat i les seves representacions gràfiques. Altres s'aprofita (o s'intenta) el desconeixement sobre aquests conceptes per enganyar als lectors.\n",
    "\n",
    "Jo em dedico a l'estadística computacional, i part de la meva feina consisteix en crear eines per tal que sigui més fàcil per a la gent que treballa amb distribucions de probabilitat representar-les així com que sigui més fàcil per qui ho llegeix interpretar la informació que contenen.\n",
    "\n",
    "En aquest article o sèrie d'articles intentaré explicar què són les distribucions de probabilitat i perquè són útils _per a tothom_, no només per a científics. També explicaré les representacións gràfiques més habituals i com llegir-les."
   ]
  },
  {
   "cell_type": "markdown",
   "id": "f87db55f",
   "metadata": {},
   "source": [
    "Les distribucions de probabilitat s'utilitzen per descriure i modelar variables aleatòries. Per variable entenem una quantitat o mesura que ens interessa estudiar i quantificar. I per aleatòria entenem que aquesta variable no sempre pren el mateix valor segons com fins i tot si repetim el procés de mesura exactament. Aquesta aleatorietat pot ser intrínseca de la mesura (quina cara del dau o d'una moneda sortirà) o pot estar lligada a estudiar una grup d'elements similars però no iguals (l'alçada o pes dels humans o el consum per kilometre de cotxes diesel). En el cas d'aleatorietat no intrínseca és molt important ser clar in entendre com hem definit el grup que representem _d'elements similars però no iguals_, com veurem als exemples, una mateixa variable pot ser descrita per multiples variables aleatòries en funció de com definim aquest grup.\n",
    "\n",
    "Les distribucions de probabilitat indiquen quin és el rang de valors que pot prendre la variable i quina és la probabilitat de cadascun d'aquests valors possibles. Alguns exemples:\n",
    "\n",
    "Una variable habitual i amb la que tothom hi té alguna experiència de primera mà és l'alçada. Cada persona té una alçada fixa, però sovint és més interessant estudiar l'alçada d'un determinat grup en particular, entenent l'alçada ja no com una mesura fixa sinó com una variable aleatòria.\n",
    "\n",
    "* Podem considerar per exemple la variable aleatòria de _l'alçada en el conjunt dels humans_. Tenir la distribució de probabilitat que descriu aquesta variable aleatòria pot ser útil per assegurar-nos que tothom arribi al prestatge més alt del supermercat (i/o proporcionar escales o tamburets en cas que no sigui així), pot ser útil (en combinació amb altres variables aleatòries similars) per fer talles de roba que cobreixin a tothom...\n",
    "* Alternativament, també podem considerar com a variable aleatòria _l'alçada en el conjunt de persones nascudes a Espanya en un any determinat_. En aquest cas tindriem múltiples variables aleatòries, una per cada any i podriem fer comparacions entre elles. En una societat estable i estàtica no hi hauria diferències entre aquestes distribucions de probabilitat. En realitat si que observarem diferències i podem utilitzar aquestes variables aleatòries per estudiar quin efecte va tenir l'escassetat en els anys de guerra i postguerra en el creixement, si la millora gradual de les condicions de vida té algun efecte en el creixement i cada cop les generacions són més altes o altres preguntes similars\n",
    "* I podriem fer molts altres grups. És per això que saber a uin grup fa referència una variable aleatòria o si fa referència a una quantitat intrinsecament aleatòria és imprescindible per interpretar-la."
   ]
  },
  {
   "cell_type": "markdown",
   "id": "24318a92",
   "metadata": {},
   "source": [
    "Les variables aleatòries es defineixen formalment a través de funcions matemàtiques amb unes propietats determinades, però en aquest article no en parlaré. Em centraré només en les representacions gràfiques que es solen fer d'aquestes distribucions de probabilitat, ja que són aquestes les que trobem tant en contextos científics com infogrames i articles per a tota la població. Si no et dediques a l'estadística o utilitzes l'estadística com a eina de modelització en el teu dia a dia no tens cap necessitat d'aprendre a definir distribucions de probabilitat formalment. El que si que cal saber per poder llegir els articles i infogrames que rebis és com interpretar les representacions gràfiques de les distribucions de probabilitat."
   ]
  },
  {
   "cell_type": "markdown",
   "id": "026ab4db",
   "metadata": {},
   "source": [
    "## Representacions gràfiques\n",
    "Existeixen diferents maneres de representar una mateixa distribució de probabilitat. "
   ]
  },
  {
   "cell_type": "markdown",
   "id": "a8ce61e0",
   "metadata": {},
   "source": [
    "### Histograma"
   ]
  },
  {
   "cell_type": "markdown",
   "id": "085cf75b",
   "metadata": {},
   "source": [
    "### KDEs\n",
    "Els KDEs (acrònim de _kernel density estimate_) són molt populars i visualment agradables ja que redueixen la distribució de probabilitat a una sola línia. Maximitzen per tant un criteri molt popular en disseny visual que consisteix en minimitzar la quantitat de tinta (real o virtual) utilitzada. Ara bé, els KDEs depenen de varies aproximacions per tal de reduir la distribució de probabilitat a una sola línia. Per poder interpretar correctament un KDE cal saber com s'han fet aquestes aproximacions.\n",
    "\n",
    "Reduir tinta està molt bé i fa que els nostres gràfics siguin més fàcils i ràpids de llegir. Però cal també tenir en compte si en reduir la tinta reduim la informació present al gràfic i en cas que si si la informació que estem eliminant és necessària o útil pels lectors."
   ]
  },
  {
   "cell_type": "markdown",
   "id": "419788f7",
   "metadata": {},
   "source": [
    "### Dot plots"
   ]
  },
  {
   "cell_type": "markdown",
   "id": "2c460749",
   "metadata": {},
   "source": [
    "### ECDF plots"
   ]
  },
  {
   "cell_type": "markdown",
   "id": "cd15c2bc",
   "metadata": {},
   "source": [
    "Llista de punts a l'interpretar distribucions de probabilitat:\n",
    "\n",
    "* [ ] Quina variable està representada?\n",
    "  - [ ] És continua o discreta?\n",
    "  - [ ] És intrinsecament aleatòria o no? En cas que no, a quin grup fa referència?\n",
    "* [ ] Quin és el rang de valors que pot prendre la variable?\n",
    "* [ ] Es pot identificar quin és el valor més probable?\n",
    "* [ ] Es poden calcular probabilitats de valors o rangs concrets?"
   ]
  },
  {
   "cell_type": "code",
   "execution_count": null,
   "id": "53dabc31",
   "metadata": {},
   "outputs": [],
   "source": []
  }
 ],
 "metadata": {
  "kernelspec": {
   "display_name": "Python 3 (ipykernel)",
   "language": "python",
   "name": "python3"
  },
  "language_info": {
   "codemirror_mode": {
    "name": "ipython",
    "version": 3
   },
   "file_extension": ".py",
   "mimetype": "text/x-python",
   "name": "python",
   "nbconvert_exporter": "python",
   "pygments_lexer": "ipython3",
   "version": "3.9.10"
  }
 },
 "nbformat": 4,
 "nbformat_minor": 5
}
